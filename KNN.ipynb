{
 "cells": [
  {
   "cell_type": "code",
   "execution_count": 1,
   "metadata": {},
   "outputs": [],
   "source": [
    "import librosa\n",
    "import os"
   ]
  },
  {
   "cell_type": "code",
   "execution_count": 2,
   "metadata": {},
   "outputs": [],
   "source": [
    "def getDatafile(file_dir):\n",
    "\n",
    "\ttest_list = []\n",
    "\ttest_label = [] \n",
    "\tvalide_list = []\n",
    "\tvalide_label = []\n",
    "\ttrain_list = []\n",
    "\ttrain_label = []\n",
    "\n",
    "\n",
    "\tfile_list = []   #liste des files de wav\n",
    "\tdic_list = [] # dictionnaire de base des données\n",
    "\tpath_list=os.listdir(file_dir)\n",
    "\n",
    "\tfor wav_dir in path_list:\n",
    "\t\tname = wav_dir.split(sep='.')\n",
    "\t\tif(len(name) == 1) :\n",
    "\t\t\tfor wav in os.listdir(file_dir+'/'+wav_dir): \n",
    "\t\t\t\tname_wav = wav.split(sep='.')\n",
    "\t\t\t\tif(len(name_wav) == 2 and name_wav[1] == 'wav' ):\n",
    "\t\t\t\t\tfile_list.append(wav_dir+'/'+wav)\n",
    "\t\t\t\t\tif not(wav_dir in dic_list):\n",
    "\t\t\t\t\t\tdic_list.append(wav_dir)\n",
    "\n",
    "\tprint(len(file_list))\n",
    "\tprint(dic_list)\n",
    "\n",
    "\tindex = {}\n",
    "\tfor i in range(len(dic_list)):\n",
    "\t\tindex[dic_list[i]] = i\n",
    "\t#Creates the reverse table that maps labels names to their index\t\n",
    "\t\t\n",
    "\tprint(index)\n",
    "\tf=open(\"/home/gjx/Desktop/vocale/data_speech_commands_v0.02/testing_list.txt\",'r')\n",
    "\tfor line in f:\n",
    "\t\ttest_list.append(line.strip('\\n'))\n",
    "\t\tlabel = line.strip('\\n').split(sep='/')[0]\n",
    "\t\ttest_label.append(index[label])\n",
    "\n",
    "\n",
    "\tfor line in open(\"/home/gjx/Desktop/vocale/data_speech_commands_v0.02/validation_list.txt\",'r'):\n",
    "\t\tvalide_list.append(line.strip('\\n'))\n",
    "\t\tlabel = line.strip('\\n').split(sep='/')[0]\n",
    "\t\tvalide_label.append(index[label])\n",
    "\n",
    "\n",
    "\tfor line in file_list:\n",
    "\t\tif not (line in test_list ):\n",
    "\t\t\tif not (line in valide_list):\n",
    "\t\t\t\ttrain_list.append(line)\n",
    "\t\t\t\ttrain_label.append(index[label])\n",
    "\n",
    "\treturn index, train_list, train_label, valide_list, valide_label, test_list, test_label\n"
   ]
  },
  {
   "cell_type": "code",
   "execution_count": 3,
   "metadata": {},
   "outputs": [
    {
     "name": "stdout",
     "output_type": "stream",
     "text": [
      "105835\n",
      "['down', 'learn', 'left', 'forward', 'on', 'marvin', 'one', 'six', 'visual', 'right', 'sheila', 'yes', 'backward', 'eight', 'up', 'bird', 'go', 'wow', 'no', 'bed', 'seven', 'tree', 'cat', 'nine', 'zero', 'four', 'stop', 'follow', '_background_noise_', 'five', 'off', 'dog', 'house', 'two', 'three', 'happy']\n",
      "{'down': 0, 'learn': 1, 'left': 2, 'forward': 3, 'on': 4, 'marvin': 5, 'one': 6, 'six': 7, 'visual': 8, 'right': 9, 'sheila': 10, 'yes': 11, 'backward': 12, 'eight': 13, 'up': 14, 'bird': 15, 'go': 16, 'wow': 17, 'no': 18, 'bed': 19, 'seven': 20, 'tree': 21, 'cat': 22, 'nine': 23, 'zero': 24, 'four': 25, 'stop': 26, 'follow': 27, '_background_noise_': 28, 'five': 29, 'off': 30, 'dog': 31, 'house': 32, 'two': 33, 'three': 34, 'happy': 35}\n"
     ]
    }
   ],
   "source": [
    "file_dir=\"/home/gjx/Desktop/vocale/data_speech_commands_v0.02\"\n",
    "index, train_list, train_label, valide_list, valide_label, test_list, test_label=getDatafile(file_dir)"
   ]
  },
  {
   "cell_type": "code",
   "execution_count": 4,
   "metadata": {},
   "outputs": [],
   "source": [
    "# from tqdm import tqdm\n",
    "# import time\n",
    "# train_set=[]\n",
    "# start=time.clock()\n",
    "# for i in tqdm(range(len(train_list))):\n",
    "#     y, sr = librosa.load(\"/home/gjx/Desktop/vocale/data_speech_commands_v0.02/\"+train_list[i], sr=None)\n",
    "#     melspec = librosa.feature.melspectrogram(y, sr, n_fft=1024, hop_length=512, n_mels=128)\n",
    "#     logmelspec = librosa.power_to_db(melspec)\n",
    "#     train_set.append(logmelspec)\n",
    "# end=time.clock()\n",
    "# print(end-start)\n",
    "# for i in range(len(train_set)):\n",
    "#     train_set[i]=train_set[i].reshape(-1)\n",
    "\n",
    "# import numpy as np\n",
    "# for i in range(len(train_set)):\n",
    "#     if train_set[i].size < 4096:\n",
    "#         t=4096-train_set[i].size\n",
    "#         a=np.mean(train_set[i])\n",
    "#         z=np.zeros(t)\n",
    "#         z.fill(a)\n",
    "# #         print(tmp.shape)\n",
    "#         train_set[i]=(np.append(train_set[i],z))\n",
    "#     elif train_set[i].size > 4096:\n",
    "#         train_set[i]=train_set[i][:4096]\n"
   ]
  },
  {
   "cell_type": "code",
   "execution_count": 5,
   "metadata": {},
   "outputs": [
    {
     "name": "stderr",
     "output_type": "stream",
     "text": [
      "100%|██████████| 9981/9981 [02:31<00:00, 65.85it/s]\n"
     ]
    },
    {
     "name": "stdout",
     "output_type": "stream",
     "text": [
      "1088.557173\n"
     ]
    }
   ],
   "source": [
    "from tqdm import tqdm\n",
    "import time\n",
    "valide_set=[]\n",
    "start=time.clock()\n",
    "for i in tqdm(range(len(valide_list))):\n",
    "    y, sr = librosa.load(\"/home/gjx/Desktop/vocale/data_speech_commands_v0.02/\"+valide_list[i], sr=None)\n",
    "    melspec = librosa.feature.melspectrogram(y, sr, n_fft=1024, hop_length=512, n_mels=128)\n",
    "    logmelspec = librosa.power_to_db(melspec)\n",
    "    valide_set.append(logmelspec)\n",
    "end=time.clock()\n",
    "print(end-start)\n",
    "\n",
    "\n",
    "for i in range(len(valide_set)):\n",
    "    valide_set[i]=valide_set[i].reshape(-1)\n",
    "\n",
    "import numpy as np\n",
    "for i in range(len(valide_set)):\n",
    "    if valide_set[i].size < 4096:\n",
    "        t=4096-valide_set[i].size\n",
    "        a=np.mean(valide_set[i])\n",
    "        z=np.zeros(t)\n",
    "        z.fill(a)\n",
    "#         print(tmp.shape)\n",
    "        valide_set[i]=(np.append(valide_set[i],z))\n",
    "    elif valide_set[i].size > 4096:\n",
    "        valide_set[i]=valide_set[i][:4096]"
   ]
  },
  {
   "cell_type": "code",
   "execution_count": 6,
   "metadata": {},
   "outputs": [
    {
     "data": {
      "text/plain": [
       "KNeighborsClassifier(algorithm='auto', leaf_size=30, metric='minkowski',\n",
       "           metric_params=None, n_jobs=None, n_neighbors=3, p=2,\n",
       "           weights='uniform')"
      ]
     },
     "execution_count": 6,
     "metadata": {},
     "output_type": "execute_result"
    }
   ],
   "source": [
    "from sklearn import datasets, neighbors, linear_model\n",
    "knn = neighbors.KNeighborsClassifier(n_neighbors=3)\n",
    "\n",
    "knn.fit(valide_set,valide_label)\n"
   ]
  },
  {
   "cell_type": "code",
   "execution_count": 7,
   "metadata": {},
   "outputs": [
    {
     "name": "stdout",
     "output_type": "stream",
     "text": [
      "0.6567478208596333\n",
      "692.0466549999999\n"
     ]
    }
   ],
   "source": [
    "start=time.clock()\n",
    "print(knn.score(valide_set,valide_label))\n",
    "end=time.clock()\n",
    "print(end-start)"
   ]
  },
  {
   "cell_type": "code",
   "execution_count": 8,
   "metadata": {},
   "outputs": [
    {
     "data": {
      "text/plain": [
       "6"
      ]
     },
     "execution_count": 8,
     "metadata": {},
     "output_type": "execute_result"
    }
   ],
   "source": [
    "import gc\n",
    "del valide_set\n",
    "gc.collect()"
   ]
  },
  {
   "cell_type": "code",
   "execution_count": 9,
   "metadata": {},
   "outputs": [
    {
     "name": "stderr",
     "output_type": "stream",
     "text": [
      "100%|██████████| 11005/11005 [01:44<00:00, 104.88it/s]\n"
     ]
    },
    {
     "name": "stdout",
     "output_type": "stream",
     "text": [
      "778.7667550000001\n"
     ]
    }
   ],
   "source": [
    "from tqdm import tqdm\n",
    "import time\n",
    "test_set=[]\n",
    "start=time.clock()\n",
    "for i in tqdm(range(len(test_list))):\n",
    "    y, sr = librosa.load(\"/home/gjx/Desktop/vocale/data_speech_commands_v0.02/\"+test_list[i], sr=None)\n",
    "    melspec = librosa.feature.melspectrogram(y, sr, n_fft=1024, hop_length=512, n_mels=128)\n",
    "    logmelspec = librosa.power_to_db(melspec)\n",
    "    test_set.append(logmelspec)\n",
    "end=time.clock()\n",
    "print(end-start)\n",
    "\n",
    "\n",
    "for i in range(len(test_set)):\n",
    "    test_set[i]=test_set[i].reshape(-1)\n",
    "\n",
    "import numpy as np\n",
    "for i in range(len(test_set)):\n",
    "    if test_set[i].size < 4096:\n",
    "        t=4096-test_set[i].size\n",
    "        a=np.mean(test_set[i])\n",
    "        z=np.zeros(t)\n",
    "        z.fill(a)\n",
    "#         print(tmp.shape)\n",
    "        test_set[i]=(np.append(test_set[i],z))\n",
    "    elif test_set[i].size > 4096:\n",
    "        test_set[i]=test_set[i][:4096]"
   ]
  },
  {
   "cell_type": "code",
   "execution_count": 10,
   "metadata": {},
   "outputs": [
    {
     "name": "stdout",
     "output_type": "stream",
     "text": [
      "0.35374829622898685\n",
      "673.6409660000004\n"
     ]
    }
   ],
   "source": [
    "start=time.clock()\n",
    "print(knn.score(test_set,test_label))\n",
    "end=time.clock()\n",
    "print(end-start)"
   ]
  },
  {
   "cell_type": "code",
   "execution_count": null,
   "metadata": {},
   "outputs": [],
   "source": []
  }
 ],
 "metadata": {
  "kernelspec": {
   "display_name": "Python 3",
   "language": "python",
   "name": "python3"
  },
  "language_info": {
   "codemirror_mode": {
    "name": "ipython",
    "version": 3
   },
   "file_extension": ".py",
   "mimetype": "text/x-python",
   "name": "python",
   "nbconvert_exporter": "python",
   "pygments_lexer": "ipython3",
   "version": "3.6.7"
  }
 },
 "nbformat": 4,
 "nbformat_minor": 2
}
